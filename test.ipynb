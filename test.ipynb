{
 "cells": [
  {
   "cell_type": "code",
   "execution_count": 1,
   "metadata": {},
   "outputs": [],
   "source": [
    "import argparse\n",
    "import json\n",
    "import pathlib\n",
    "from pathlib import Path\n",
    "\n",
    "import numpy as np\n",
    "\n",
    "import data_loader.data_loaders as module_data\n",
    "import model.loss as module_loss\n",
    "import model.metric as module_metric\n",
    "import model.model as module_arch  # monorec model\n",
    "from evaluater import Evaluater\n",
    "from utils.parse_config import ConfigParser"
   ]
  },
  {
   "cell_type": "code",
   "execution_count": 3,
   "metadata": {},
   "outputs": [
    {
     "name": "stderr",
     "output_type": "stream",
     "text": [
      "usage: ipykernel_launcher.py [-h] [-c CONFIG] [-d DEVICE] [-r RESUME] [-f F]\n",
      "ipykernel_launcher.py: error: unrecognized arguments: --ip=127.0.0.1 --stdin=9003 --control=9001 --hb=9000 --Session.signature_scheme=\"hmac-sha256\" --Session.key=b\"85ad31b7-4914-4ee1-87aa-33abe7fccb40\" --shell=9002 --transport=\"tcp\" --iopub=9004 --f=/var/folders/y3/jbqlqcms6jb8hmx2rb93snq80000gn/T/tmp-72034pA7L7Ikr9nmp.json\n"
     ]
    },
    {
     "ename": "SystemExit",
     "evalue": "2",
     "output_type": "error",
     "traceback": [
      "An exception has occurred, use %tb to see the full traceback.\n",
      "\u001b[0;31mSystemExit\u001b[0m\u001b[0;31m:\u001b[0m 2\n"
     ]
    },
    {
     "name": "stderr",
     "output_type": "stream",
     "text": [
      "/Users/handsomeb/opt/anaconda3/lib/python3.7/site-packages/IPython/core/interactiveshell.py:3334: UserWarning: To exit: use 'exit', 'quit', or Ctrl-D.\n",
      "  warn(\"To exit: use 'exit', 'quit', or Ctrl-D.\", stacklevel=1)\n"
     ]
    }
   ],
   "source": [
    "args = argparse.ArgumentParser(description='Deeptam Evaluation')\n",
    "args.add_argument('-c', '--config', default=None, type=str,\n",
    "                    help='config file path (default: None)')\n",
    "args.add_argument('-d', '--device', default=None, type=str,\n",
    "                    help='indices of GPUs to enable (default: all)')\n",
    "args.add_argument('-r', '--resume', default=None, type=str,\n",
    "                    help='path to latest checkpoint (default: None)')\n",
    "args.add_argument(\"-f\")\n",
    "config = ConfigParser(args)\n",
    "print(config.config)"
   ]
  },
  {
   "cell_type": "code",
   "execution_count": null,
   "metadata": {},
   "outputs": [],
   "source": [
    "def main(config: ConfigParser):\n",
    "    logger = config.get_logger('train')\n",
    "\n",
    "    # setup data_loader instances\n",
    "    data_loader = config.initialize('data_loader', module_data)\n",
    "\n",
    "    # get function handles of loss and metrics\n",
    "    loss = getattr(module_loss, config['loss'])\n",
    "    metrics = [getattr(module_metric, met) for met in config['metrics']]\n",
    "\n",
    "    # build model architecture, then print to console\n",
    "\n",
    "    if \"arch\" in config.config:\n",
    "        models = [config.initialize('arch', module_arch)]    # monorec model\n",
    "    else:\n",
    "        models = config.initialize_list(\"models\", module_arch)\n",
    "\n",
    "    results = []\n",
    "    print(models)\n",
    "    # for i, model in enumerate(models):\n",
    "    #     model_dict = dict(model.__dict__)\n",
    "    #     keys = list(model_dict.keys())\n",
    "    #     for k in keys:\n",
    "    #         if k.startswith(\"_\"):\n",
    "    #             model_dict.__delitem__(k)\n",
    "    #         elif type(model_dict[k]) == np.ndarray:\n",
    "    #             model_dict[k] = list(model_dict[k])\n",
    "\n",
    "\n",
    "    #     dataset_dict = dict(data_loader.dataset.__dict__)\n",
    "    #     keys = list(dataset_dict.keys())\n",
    "    #     for k in keys:\n",
    "    #         if k.startswith(\"_\"):\n",
    "    #             dataset_dict.__delitem__(k)\n",
    "    #         elif type(dataset_dict[k]) == np.ndarray:\n",
    "    #             dataset_dict[k] = list(dataset_dict[k])\n",
    "    #         elif isinstance(dataset_dict[k], pathlib.PurePath):\n",
    "    #             dataset_dict[k] = str(dataset_dict[k])\n",
    "\n",
    "\n",
    "    #     logger.info(model_dict)\n",
    "    #     logger.info(dataset_dict)\n",
    "    #     print(\"############################ start eval ##########################\")\n",
    "    #     evaluater = Evaluater(model, loss, metrics, config=config, data_loader=data_loader)\n",
    "    #     print(\"############################ end eval ##########################\")\n",
    "    #     result = evaluater.eval(i)\n",
    "    #     result[\"metrics\"] = result[\"metrics\"]\n",
    "    #     del model\n",
    "    #     result[\"metrics_info\"] = [metric.__name__ for metric in metrics]\n",
    "    #     logger.info(result)\n",
    "    #     results.append({\n",
    "    #         \"model\": model_dict,\n",
    "    #         \"dataset\": dataset_dict,\n",
    "    #         \"result\": result\n",
    "    #     })\n",
    "\n",
    "    save_file = Path(config.log_dir) / \"results.json\"\n",
    "    with open(save_file, \"w\") as f:\n",
    "        json.dump(results, f, indent=4)\n",
    "    logger.info(\"Finished\")\n",
    "\n",
    "\n",
    "if __name__ == \"__main__\":\n",
    "    args = argparse.ArgumentParser(description='Deeptam Evaluation')\n",
    "    args.add_argument('-c', '--config', default=None, type=str,\n",
    "                      help='config file path (default: None)')\n",
    "    args.add_argument('-d', '--device', default=None, type=str,\n",
    "                      help='indices of GPUs to enable (default: all)')\n",
    "    args.add_argument('-r', '--resume', default=None, type=str,\n",
    "                      help='path to latest checkpoint (default: None)')\n",
    "    config = ConfigParser(args)\n",
    "    print(config.config)\n",
    "    main(config)\n"
   ]
  }
 ],
 "metadata": {
  "kernelspec": {
   "display_name": "Python 3",
   "language": "python",
   "name": "python3"
  },
  "language_info": {
   "codemirror_mode": {
    "name": "ipython",
    "version": 3
   },
   "file_extension": ".py",
   "mimetype": "text/x-python",
   "name": "python",
   "nbconvert_exporter": "python",
   "pygments_lexer": "ipython3",
   "version": "3.7.4"
  }
 },
 "nbformat": 4,
 "nbformat_minor": 2
}
